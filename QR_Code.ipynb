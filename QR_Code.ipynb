{
  "nbformat": 4,
  "nbformat_minor": 0,
  "metadata": {
    "colab": {
      "provenance": [],
      "collapsed_sections": [
        "LeeVZkSwx1wt",
        "pnyj1kiMx5ZX",
        "ccKXTfukx-t7",
        "lIsCZatHx-1A"
      ]
    },
    "kernelspec": {
      "name": "python3",
      "display_name": "Python 3"
    },
    "language_info": {
      "name": "python"
    }
  },
  "cells": [
    {
      "cell_type": "markdown",
      "source": [
        "# Liberaries"
      ],
      "metadata": {
        "id": "LeeVZkSwx1wt"
      }
    },
    {
      "cell_type": "code",
      "execution_count": 1,
      "metadata": {
        "colab": {
          "base_uri": "https://localhost:8080/"
        },
        "id": "IiElz8GjxOQx",
        "outputId": "adbd0da8-4400-434e-9ce2-d403931db713"
      },
      "outputs": [
        {
          "output_type": "stream",
          "name": "stdout",
          "text": [
            "Looking in indexes: https://pypi.org/simple, https://us-python.pkg.dev/colab-wheels/public/simple/\n",
            "Collecting qrcode\n",
            "  Downloading qrcode-7.4.2-py3-none-any.whl (46 kB)\n",
            "\u001b[2K     \u001b[90m━━━━━━━━━━━━━━━━━━━━━━━━━━━━━━━━━━━━━━━━\u001b[0m \u001b[32m46.2/46.2 kB\u001b[0m \u001b[31m1.3 MB/s\u001b[0m eta \u001b[36m0:00:00\u001b[0m\n",
            "\u001b[?25hRequirement already satisfied: typing-extensions in /usr/local/lib/python3.10/dist-packages (from qrcode) (4.5.0)\n",
            "Collecting pypng\n",
            "  Downloading pypng-0.20220715.0-py3-none-any.whl (58 kB)\n",
            "\u001b[2K     \u001b[90m━━━━━━━━━━━━━━━━━━━━━━━━━━━━━━━━━━━━━━━━\u001b[0m \u001b[32m58.1/58.1 kB\u001b[0m \u001b[31m2.9 MB/s\u001b[0m eta \u001b[36m0:00:00\u001b[0m\n",
            "\u001b[?25hInstalling collected packages: pypng, qrcode\n",
            "Successfully installed pypng-0.20220715.0 qrcode-7.4.2\n"
          ]
        }
      ],
      "source": [
        "# Install the Library\n",
        "!pip install qrcode"
      ]
    },
    {
      "cell_type": "code",
      "source": [
        "# Importing library\n",
        "import qrcode"
      ],
      "metadata": {
        "id": "Aojdoy1jxXdQ"
      },
      "execution_count": 2,
      "outputs": []
    },
    {
      "cell_type": "markdown",
      "source": [
        "# Example 1"
      ],
      "metadata": {
        "id": "pnyj1kiMx5ZX"
      }
    },
    {
      "cell_type": "code",
      "source": [
        "# Data to be encoded\n",
        "data = 'QR Code using make() function'"
      ],
      "metadata": {
        "id": "YilxW49nxfsA"
      },
      "execution_count": 3,
      "outputs": []
    },
    {
      "cell_type": "code",
      "source": [
        "# Encoding data using make() function\n",
        "img = qrcode.make(data)"
      ],
      "metadata": {
        "id": "2Tg7g8Ydxida"
      },
      "execution_count": 4,
      "outputs": []
    },
    {
      "cell_type": "code",
      "source": [
        "# Saving as an image file\n",
        "img.save('MyQRCode1.png')"
      ],
      "metadata": {
        "id": "uvUUGhAAxkjL"
      },
      "execution_count": 5,
      "outputs": []
    },
    {
      "cell_type": "markdown",
      "source": [
        "# Example 2"
      ],
      "metadata": {
        "id": "ccKXTfukx-t7"
      }
    },
    {
      "cell_type": "code",
      "source": [
        "# Data to encode\n",
        "data = \"Engineering\""
      ],
      "metadata": {
        "id": "b7m-1g9kx-t7"
      },
      "execution_count": 6,
      "outputs": []
    },
    {
      "cell_type": "code",
      "source": [
        "# Creating an instance of QRCode class\n",
        "qr = qrcode.QRCode(version = 1,\n",
        "                   box_size = 10,\n",
        "                   border = 5)"
      ],
      "metadata": {
        "id": "dJv7PzuXx-t8"
      },
      "execution_count": 7,
      "outputs": []
    },
    {
      "cell_type": "code",
      "source": [
        "# Adding data to the instance 'qr'\n",
        "qr.add_data(data)"
      ],
      "metadata": {
        "id": "aDXdqFgzyP3N"
      },
      "execution_count": 8,
      "outputs": []
    },
    {
      "cell_type": "code",
      "source": [
        "qr.make(fit = True)\n",
        "img = qr.make_image(fill_color = 'red',\n",
        "                    back_color = 'white')"
      ],
      "metadata": {
        "id": "DMNZL2qtyPzz"
      },
      "execution_count": 9,
      "outputs": []
    },
    {
      "cell_type": "code",
      "source": [
        "# Saving as an image file\n",
        "img.save('MyQRCode2.png')"
      ],
      "metadata": {
        "id": "AOjSie14x-t8"
      },
      "execution_count": 10,
      "outputs": []
    },
    {
      "cell_type": "markdown",
      "source": [
        "# Example 3"
      ],
      "metadata": {
        "id": "lIsCZatHx-1A"
      }
    },
    {
      "cell_type": "code",
      "source": [
        "# Data to be encoded\n",
        "data = ['QR Code using make() function', 'jhbbxgfv', 52, 65, \"boy\"]"
      ],
      "metadata": {
        "id": "RXRyqB18x-1A"
      },
      "execution_count": 11,
      "outputs": []
    },
    {
      "cell_type": "code",
      "source": [
        "# Encoding data using make() function\n",
        "img = qrcode.make(data)"
      ],
      "metadata": {
        "id": "ed2pxbCwx-1A"
      },
      "execution_count": 12,
      "outputs": []
    },
    {
      "cell_type": "code",
      "source": [
        "# Saving as an image file\n",
        "img.save('MyQRCode3.png')"
      ],
      "metadata": {
        "id": "oQ0b-Gg2x-1A"
      },
      "execution_count": 13,
      "outputs": []
    }
  ]
}